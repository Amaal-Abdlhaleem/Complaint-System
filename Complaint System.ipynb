{
 "cells": [
  {
   "cell_type": "code",
   "execution_count": 1,
   "metadata": {},
   "outputs": [
    {
     "name": "stdout",
     "output_type": "stream",
     "text": [
      "Welcome!\n",
      "For a customer complains press 1: 1\n",
      "Welcome our dear customer! \n",
      "Here, you can feel free to send your complain. \n",
      "\n",
      "Enter your full name: Amaal ahmed\n",
      "Enter your complain: baaad\n",
      "Your complain was submitted successfully \n",
      " \n",
      "Your complain details: \n",
      "At 2021-08-05 14:08:50.961257 \n",
      " {'Name': 'Amaal ahmed', 'Complain': 'baaad'}\n"
     ]
    }
   ],
   "source": [
    "from datetime import datetime\n",
    "\n",
    "\n",
    "#Welcome customer\n",
    "print(\"Welcome!\")\n",
    "customer = input(\"For a customer complains press 1: \")\n",
    "\n",
    "#customer submits the complain \n",
    "customer_complains={}\n",
    "if customer:\n",
    "    print(\"Welcome our dear customer! \\n\" \"Here, you can feel free to send your complain. \\n\")\n",
    "    name = input(\"Enter your full name: \")\n",
    "    complain = input(\"Enter your complain: \")\n",
    "    dateTime = datetime.now()\n",
    "    customer_complains[dateTime] = {\"Name\":name, \"Complain\":complain}\n",
    "    print(\"Your complain was submitted successfully \\n \")\n",
    "    if dateTime in customer_complains:\n",
    "        print (\"Your complain details: \\n\" \"At\",dateTime,\"\\n\",customer_complains[dateTime])"
   ]
  },
  {
   "cell_type": "code",
   "execution_count": null,
   "metadata": {},
   "outputs": [],
   "source": [
    "\n",
    "    "
   ]
  }
 ],
 "metadata": {
  "kernelspec": {
   "display_name": "Python 3",
   "language": "python",
   "name": "python3"
  },
  "language_info": {
   "codemirror_mode": {
    "name": "ipython",
    "version": 3
   },
   "file_extension": ".py",
   "mimetype": "text/x-python",
   "name": "python",
   "nbconvert_exporter": "python",
   "pygments_lexer": "ipython3",
   "version": "3.8.5"
  }
 },
 "nbformat": 4,
 "nbformat_minor": 4
}
