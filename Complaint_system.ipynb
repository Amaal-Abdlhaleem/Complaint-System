{
 "cells": [
  {
   "cell_type": "code",
   "execution_count": null,
   "metadata": {},
   "outputs": [
    {
     "name": "stdout",
     "output_type": "stream",
     "text": [
      "Welcome!\n",
      "For a customer complains press 1: \n",
      "1\n",
      "Welcome our dear customer! \n",
      "Here, you can feel free to send your complain. \n",
      "\n",
      "Enter your full name: amaal\n",
      "Enter your complain: late\n",
      "Your complain was submitted successfully \n",
      "Your complain details: \n",
      "At 2021-08-08 09:57:39.703770 \n",
      " {'Customer_id': 1, 'Name': 'amaal', 'Complain': 'late'}\n",
      "Welcome our dear customer! \n",
      "Here, you can feel free to send your complain. \n",
      "\n"
     ]
    }
   ],
   "source": [
    "import json\n",
    "from datetime import datetime\n",
    "\n",
    "file_name = 'customer_data.json'\n",
    "customers_data = []\n",
    "\n",
    "\n",
    "with open(file_name, 'w') as file:\n",
    "    json.dump(customers_data, file)\n",
    "\n",
    "\n",
    "#customer submits the complain\n",
    "print(\"Welcome!\")\n",
    "customer_id = 0\n",
    "\n",
    "customer = input(\"For a customer complains press 1: \\n\")\n",
    "   \n",
    "while customer:\n",
    "    print(\"Welcome our dear customer! \\n\" \"Here, you can feel free to send your complain. \\n\")\n",
    "    name = input(\"Enter your full name: \")\n",
    "    customer_id = customer_id + 1\n",
    "    complain = input(\"Enter your complain: \")\n",
    "    dateTime = datetime.now()\n",
    "    entry = {\"Customer_id\":customer_id, \"Name\":name, \"Complain\":complain}\n",
    "    \n",
    "    # Append the new entry to the list of customers and overwrite whole file\n",
    "    with open(file_name,'w') as file:\n",
    "        customers_data.append(entry)\n",
    "        json.dump(customers_data, file)\n",
    "        \n",
    "    print(\"Your complain was submitted successfully \\nYour complain details: \\n\" \"At\",dateTime,\"\\n\",entry)\n",
    "\n",
    "      \n",
    "        "
   ]
  },
  {
   "cell_type": "code",
   "execution_count": 4,
   "metadata": {},
   "outputs": [
    {
     "name": "stdout",
     "output_type": "stream",
     "text": [
      "[{\"Customer_id\": 1, \"Name\": \"amaal\", \"Complain\": \"late\"}]\n",
      "Please, Enter the complain ID to check it \n",
      "1\n",
      "The complain chosen with customer ID  1 is \n",
      " {'Customer_id': 1, 'Name': 'amaal', 'Complain': 'late'}\n"
     ]
    }
   ],
   "source": [
    "#List all the complain for TEAM\n",
    "import json\n",
    "file_name = 'customer_data.json'\n",
    "\n",
    "with open(file_name, \"r\") as file:\n",
    "    complain_list = json.load(file)\n",
    "\n",
    "print (json.dumps(complain_list))\n",
    "\n",
    "\n",
    "#Ask to pick a complain\n",
    "team_complainID = int(input(\"Please, Enter the complain ID to check it \\n\"))\n",
    "print(\"The complain chosen with customer ID \",team_complainID, \"is \\n\", complain_list[team_complainID-1])\n"
   ]
  },
  {
   "cell_type": "code",
   "execution_count": 1,
   "metadata": {},
   "outputs": [
    {
     "name": "stdout",
     "output_type": "stream",
     "text": [
      "{\"data\":{\"detections\":[[{\"isReliable\":false,\"confidence\":1,\"language\":\"en\"}]]}}\n"
     ]
    }
   ],
   "source": [
    "#Detect the language used in a complain text\n",
    "import requests\n",
    "\n",
    "url = \"https://google-translate1.p.rapidapi.com/language/translate/v2/detect\"\n",
    "\n",
    "payload = \"q=English%20is%20hard%2C%20but%20detectably%20so\"\n",
    "headers = {\n",
    "    'content-type': \"application/x-www-form-urlencoded\",\n",
    "    'accept-encoding': \"application/gzip\",\n",
    "    'x-rapidapi-key': \"f67c7333fdmsh5a9dc6b213e9ac0p105e66jsn06699e794c8e\",\n",
    "    'x-rapidapi-host': \"google-translate1.p.rapidapi.com\"\n",
    "    }\n",
    "\n",
    "response = requests.request(\"POST\", url, data=payload, headers=headers)\n",
    "\n",
    "print(response.text)"
   ]
  },
  {
   "cell_type": "code",
   "execution_count": 2,
   "metadata": {},
   "outputs": [
    {
     "name": "stdout",
     "output_type": "stream",
     "text": [
      "{\"data\":{\"translations\":[{\"translatedText\":\"¡Hola Mundo!\"}]}}\n"
     ]
    }
   ],
   "source": [
    "#translate the language used in a complain text\n",
    "import requests\n",
    "\n",
    "url = \"https://google-translate1.p.rapidapi.com/language/translate/v2\"\n",
    "\n",
    "payload = \"q=Hello%2C%20world!&target=es&source=en\"\n",
    "headers = {\n",
    "    'content-type': \"application/x-www-form-urlencoded\",\n",
    "    'accept-encoding': \"application/gzip\",\n",
    "    'x-rapidapi-key': \"f67c7333fdmsh5a9dc6b213e9ac0p105e66jsn06699e794c8e\",\n",
    "    'x-rapidapi-host': \"google-translate1.p.rapidapi.com\"\n",
    "    }\n",
    "\n",
    "response = requests.request(\"POST\", url, data=payload, headers=headers)\n",
    "\n",
    "print(response.text)"
   ]
  },
  {
   "cell_type": "code",
   "execution_count": null,
   "metadata": {},
   "outputs": [],
   "source": [
    "from googletrans import Translator\n",
    "def translate_request(user_complain):\n",
    "        translator = Translator()\n",
    "        complain_lang = translator.translate(langComplaint, dest=\"en\")\n",
    "        print(\"your complain is\",complain_lang.text)\n",
    "        print(\"your Complaint language is\",complain_lang.src)"
   ]
  }
 ],
 "metadata": {
  "kernelspec": {
   "display_name": "Python 3",
   "language": "python",
   "name": "python3"
  },
  "language_info": {
   "codemirror_mode": {
    "name": "ipython",
    "version": 3
   },
   "file_extension": ".py",
   "mimetype": "text/x-python",
   "name": "python",
   "nbconvert_exporter": "python",
   "pygments_lexer": "ipython3",
   "version": "3.8.5"
  }
 },
 "nbformat": 4,
 "nbformat_minor": 4
}
